{
 "cells": [
  {
   "cell_type": "code",
   "execution_count": 13,
   "id": "d0cf09ed",
   "metadata": {},
   "outputs": [
    {
     "name": "stdout",
     "output_type": "stream",
     "text": [
      "XX.XXXXXXXXXX..XXXXXXXX...XXXXXX\n",
      "BB.AAAAAAAABB..AAAAAAAA...AAAABB\n"
     ]
    }
   ],
   "source": [
    "P = str(input())\n",
    "A = 'AAAA';B = 'BB'\n",
    "answer=''\n",
    "\n",
    "i=0\n",
    "while i<len(P):\n",
    "    count=0\n",
    "    if P[i]=='.':\n",
    "        i+=1\n",
    "        answer+='.'\n",
    "        continue\n",
    "    else:\n",
    "        while (i<len(P) and P[i]!='.'):\n",
    "            count+=1\n",
    "            i+=1\n",
    "        if count%2>0:\n",
    "            answer='-1'\n",
    "            break\n",
    "        else:\n",
    "            while count>=4:\n",
    "                answer+=A\n",
    "                count-=4\n",
    "            if count>0: answer+=B\n",
    "print(answer)"
   ]
  },
  {
   "cell_type": "code",
   "execution_count": null,
   "id": "cf10fa21",
   "metadata": {},
   "outputs": [],
   "source": []
  }
 ],
 "metadata": {
  "kernelspec": {
   "display_name": "Python 3",
   "language": "python",
   "name": "python3"
  },
  "language_info": {
   "codemirror_mode": {
    "name": "ipython",
    "version": 3
   },
   "file_extension": ".py",
   "mimetype": "text/x-python",
   "name": "python",
   "nbconvert_exporter": "python",
   "pygments_lexer": "ipython3",
   "version": "3.8.8"
  }
 },
 "nbformat": 4,
 "nbformat_minor": 5
}
