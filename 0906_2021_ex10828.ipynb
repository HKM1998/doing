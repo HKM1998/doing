{
 "cells": [
  {
   "cell_type": "code",
   "execution_count": 35,
   "id": "be3748ba",
   "metadata": {},
   "outputs": [
    {
     "ename": "ValueError",
     "evalue": "invalid literal for int() with base 10: ''",
     "output_type": "error",
     "traceback": [
      "\u001b[1;31m---------------------------------------------------------------------------\u001b[0m",
      "\u001b[1;31mValueError\u001b[0m                                Traceback (most recent call last)",
      "\u001b[1;32m<ipython-input-35-945c18adceea>\u001b[0m in \u001b[0;36m<module>\u001b[1;34m\u001b[0m\n\u001b[0;32m      1\u001b[0m \u001b[1;32mimport\u001b[0m \u001b[0msys\u001b[0m\u001b[1;33m\u001b[0m\u001b[1;33m\u001b[0m\u001b[0m\n\u001b[1;32m----> 2\u001b[1;33m \u001b[0mN\u001b[0m \u001b[1;33m=\u001b[0m \u001b[0mint\u001b[0m\u001b[1;33m(\u001b[0m\u001b[0msys\u001b[0m\u001b[1;33m.\u001b[0m\u001b[0mstdin\u001b[0m\u001b[1;33m.\u001b[0m\u001b[0mreadline\u001b[0m\u001b[1;33m(\u001b[0m\u001b[1;33m)\u001b[0m\u001b[1;33m.\u001b[0m\u001b[0mrstrip\u001b[0m\u001b[1;33m(\u001b[0m\u001b[1;33m)\u001b[0m\u001b[1;33m)\u001b[0m\u001b[1;33m\u001b[0m\u001b[1;33m\u001b[0m\u001b[0m\n\u001b[0m",
      "\u001b[1;31mValueError\u001b[0m: invalid literal for int() with base 10: ''"
     ]
    }
   ],
   "source": [
    "import sys\n",
    "N = int(sys.stdin.readline().rstrip())"
   ]
  },
  {
   "cell_type": "code",
   "execution_count": 27,
   "id": "ae469ad1",
   "metadata": {},
   "outputs": [
    {
     "name": "stdout",
     "output_type": "stream",
     "text": [
      "pop\n",
      "-1\n",
      "top\n",
      "-1\n",
      "push 123\n",
      "top\n",
      "123\n",
      "pop\n",
      "123\n",
      "top\n",
      "-1\n",
      "pop\n",
      "-1\n"
     ]
    }
   ],
   "source": [
    "lst = []\n",
    "\n",
    "while(N>0):\n",
    "    input_split = sys.stdin.readline().rstrip().split()\n",
    "    a = input_split[0]\n",
    "    if((a=='top') or (a=='pop')):\n",
    "        if len(lst)>0:\n",
    "            print(lst[-1])\n",
    "            if a=='pop':\n",
    "                del lst[-1]\n",
    "        else:\n",
    "            print(-1)\n",
    "    elif a=='size':\n",
    "        print(len(lst))\n",
    "    elif(a=='empty'):\n",
    "        if(len(lst)==0):\n",
    "            print(1)\n",
    "        else:\n",
    "            print(0)\n",
    "    else:\n",
    "        a.split()\n",
    "        lst.append(int(input_split[1]))\n",
    "    N-=1"
   ]
  },
  {
   "cell_type": "code",
   "execution_count": 33,
   "id": "71d99c88",
   "metadata": {},
   "outputs": [
    {
     "data": {
      "text/plain": [
       "['push', '123']"
      ]
     },
     "execution_count": 33,
     "metadata": {},
     "output_type": "execute_result"
    }
   ],
   "source": [
    "a = 'push 123'\n",
    "a.split(' ')"
   ]
  },
  {
   "cell_type": "code",
   "execution_count": 23,
   "id": "6ead6ab3",
   "metadata": {},
   "outputs": [
    {
     "name": "stdout",
     "output_type": "stream",
     "text": [
      "14\n",
      "push 1 push 2 top size empty pop pop pop size empty pop push 3 empty top\n",
      "2\n",
      "2\n",
      "0\n",
      "2\n",
      "1\n",
      "-1\n",
      "0\n",
      "1\n",
      "-1\n",
      "0\n",
      "3\n"
     ]
    }
   ],
   "source": [
    "N = int(input())\n",
    "lst = []\n",
    "\n",
    "b = list(input().split())\n",
    "i = 0\n",
    "while(i<len(b)):\n",
    "    a = b[i]\n",
    "    if((a=='top') or (a=='pop')):\n",
    "        if(len(lst)>0):\n",
    "            print(lst[-1])\n",
    "            if(a=='pop'):\n",
    "                del lst[-1]\n",
    "        else:\n",
    "            print(-1)\n",
    "    elif(a=='push'):\n",
    "        lst.append(int(b[i+1]))\n",
    "        i+=1\n",
    "    elif(a=='size'):\n",
    "        print(len(lst))\n",
    "    elif(a=='empty'):\n",
    "        if(len(lst)==0):\n",
    "            print(1)\n",
    "        else:\n",
    "            print(0)\n",
    "    i+=1"
   ]
  },
  {
   "cell_type": "code",
   "execution_count": 21,
   "id": "069118c7",
   "metadata": {},
   "outputs": [
    {
     "data": {
      "text/plain": [
       "['pop', 'top', 'push', '123', 'top', 'pop', 'top', 'pop']"
      ]
     },
     "execution_count": 21,
     "metadata": {},
     "output_type": "execute_result"
    }
   ],
   "source": [
    "b"
   ]
  },
  {
   "cell_type": "code",
   "execution_count": null,
   "id": "196bdf46",
   "metadata": {},
   "outputs": [],
   "source": []
  }
 ],
 "metadata": {
  "kernelspec": {
   "display_name": "Python 3",
   "language": "python",
   "name": "python3"
  },
  "language_info": {
   "codemirror_mode": {
    "name": "ipython",
    "version": 3
   },
   "file_extension": ".py",
   "mimetype": "text/x-python",
   "name": "python",
   "nbconvert_exporter": "python",
   "pygments_lexer": "ipython3",
   "version": "3.8.8"
  }
 },
 "nbformat": 4,
 "nbformat_minor": 5
}
