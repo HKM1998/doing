{
 "cells": [
  {
   "cell_type": "code",
   "execution_count": 51,
   "id": "d1230648",
   "metadata": {
    "scrolled": true
   },
   "outputs": [
    {
     "name": "stdout",
     "output_type": "stream",
     "text": [
      "5\n",
      "1 2 3 4\n",
      "5 4 3 2 1\n"
     ]
    }
   ],
   "source": [
    "N = int(input())\n",
    "dis = list(map(int, input().split()))\n",
    "price = list(map(int, input().split()))"
   ]
  },
  {
   "cell_type": "code",
   "execution_count": 52,
   "id": "e0b689d6",
   "metadata": {},
   "outputs": [
    {
     "name": "stdout",
     "output_type": "stream",
     "text": [
      "30\n"
     ]
    }
   ],
   "source": [
    "answer = 0\n",
    "i=0;j=0;\n",
    "M = min(price[:-1])\n",
    "while j<N:\n",
    "    if price[j]==M:\n",
    "        answer+=(sum(dis[i:])*price[j])\n",
    "        break\n",
    "    else:\n",
    "        k=j+1\n",
    "        if(k<N-1)and(price[j]>price[k]):\n",
    "            answer+=(price[j]*dis[i])\n",
    "            i+=1;j+=1\n",
    "            continue\n",
    "        while k<N-1 and (price[j]<=price[k]):\n",
    "            answer+=(price[j]*dis[i])\n",
    "            k+=1;i+=1\n",
    "        j=k\n",
    "print(answer)"
   ]
  },
  {
   "cell_type": "code",
   "execution_count": null,
   "id": "bf294496",
   "metadata": {},
   "outputs": [],
   "source": []
  }
 ],
 "metadata": {
  "kernelspec": {
   "display_name": "Python 3",
   "language": "python",
   "name": "python3"
  },
  "language_info": {
   "codemirror_mode": {
    "name": "ipython",
    "version": 3
   },
   "file_extension": ".py",
   "mimetype": "text/x-python",
   "name": "python",
   "nbconvert_exporter": "python",
   "pygments_lexer": "ipython3",
   "version": "3.8.8"
  }
 },
 "nbformat": 4,
 "nbformat_minor": 5
}
