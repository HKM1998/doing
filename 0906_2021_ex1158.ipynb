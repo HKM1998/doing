{
 "cells": [
  {
   "cell_type": "code",
   "execution_count": 64,
   "id": "d48cfd41",
   "metadata": {},
   "outputs": [
    {
     "name": "stdout",
     "output_type": "stream",
     "text": [
      "7 7\n"
     ]
    }
   ],
   "source": [
    "ipt = list(map(int,input().split()))\n",
    "N = ipt[0]\n",
    "K = ipt[1]"
   ]
  },
  {
   "cell_type": "code",
   "execution_count": 62,
   "id": "912896f1",
   "metadata": {},
   "outputs": [],
   "source": [
    "li = []\n",
    "li = [i for i in range(1,N+1)]"
   ]
  },
  {
   "cell_type": "code",
   "execution_count": 63,
   "id": "43eaa04e",
   "metadata": {},
   "outputs": [
    {
     "name": "stdout",
     "output_type": "stream",
     "text": [
      "<7, 1, 3, 6, 2, 4, 5>\n"
     ]
    }
   ],
   "source": [
    "count = K-1\n",
    "answer=[]\n",
    "while(len(li)>0):\n",
    "    answer.append(li[count])\n",
    "    li.remove(li[count])\n",
    "    count+=(K-1)\n",
    "    while(count>=len(li) & len(li)>0):\n",
    "        count-=len(li)\n",
    "        \n",
    "print('<'+str(answer)[1:-1]+'>')"
   ]
  },
  {
   "cell_type": "code",
   "execution_count": null,
   "id": "7a429041",
   "metadata": {},
   "outputs": [],
   "source": []
  }
 ],
 "metadata": {
  "kernelspec": {
   "display_name": "Python 3",
   "language": "python",
   "name": "python3"
  },
  "language_info": {
   "codemirror_mode": {
    "name": "ipython",
    "version": 3
   },
   "file_extension": ".py",
   "mimetype": "text/x-python",
   "name": "python",
   "nbconvert_exporter": "python",
   "pygments_lexer": "ipython3",
   "version": "3.8.8"
  }
 },
 "nbformat": 4,
 "nbformat_minor": 5
}
