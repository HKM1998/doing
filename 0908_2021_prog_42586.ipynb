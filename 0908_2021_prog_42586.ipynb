{
 "cells": [
  {
   "cell_type": "code",
   "execution_count": 70,
   "id": "fb8c4a9f",
   "metadata": {},
   "outputs": [],
   "source": [
    "def solution(progresses, speeds):\n",
    "    answer = []\n",
    "    while True:\n",
    "        for i in range(len(progresses)):\n",
    "            progresses[i]+=speeds[i]\n",
    "        if progresses[0]>=100:\n",
    "            count = 0\n",
    "            for j in progresses:\n",
    "                if j<100:\n",
    "                    break\n",
    "                count+=1\n",
    "            answer.append(count)       \n",
    "            del progresses[:count]       \n",
    "            del speeds[:count]\n",
    "        if len(progresses)<=0:break\n",
    "    return answer"
   ]
  },
  {
   "cell_type": "code",
   "execution_count": 71,
   "id": "e6eff300",
   "metadata": {},
   "outputs": [],
   "source": [
    "a=[93]\n",
    "b=[15]"
   ]
  },
  {
   "cell_type": "code",
   "execution_count": 72,
   "id": "7e9eaad9",
   "metadata": {
    "scrolled": true
   },
   "outputs": [
    {
     "data": {
      "text/plain": [
       "[1]"
      ]
     },
     "execution_count": 72,
     "metadata": {},
     "output_type": "execute_result"
    }
   ],
   "source": [
    "solution(a,b)"
   ]
  },
  {
   "cell_type": "code",
   "execution_count": 73,
   "id": "b38b1060",
   "metadata": {},
   "outputs": [
    {
     "data": {
      "text/plain": [
       "[1, 3, 2]"
      ]
     },
     "execution_count": 73,
     "metadata": {},
     "output_type": "execute_result"
    }
   ],
   "source": [
    "c=[95, 90, 99, 99, 80, 99]\n",
    "d=[1, 1, 1, 1, 1, 1]\n",
    "solution(c,d)"
   ]
  },
  {
   "cell_type": "code",
   "execution_count": 74,
   "id": "6f1752a1",
   "metadata": {},
   "outputs": [
    {
     "data": {
      "text/plain": [
       "[6]"
      ]
     },
     "execution_count": 74,
     "metadata": {},
     "output_type": "execute_result"
    }
   ],
   "source": [
    "c=[99, 99, 99, 99, 99, 99]\n",
    "d=[1, 1, 1, 1, 1, 1]\n",
    "solution(c,d)"
   ]
  },
  {
   "cell_type": "code",
   "execution_count": null,
   "id": "a25a29f1",
   "metadata": {},
   "outputs": [],
   "source": []
  }
 ],
 "metadata": {
  "kernelspec": {
   "display_name": "Python 3",
   "language": "python",
   "name": "python3"
  },
  "language_info": {
   "codemirror_mode": {
    "name": "ipython",
    "version": 3
   },
   "file_extension": ".py",
   "mimetype": "text/x-python",
   "name": "python",
   "nbconvert_exporter": "python",
   "pygments_lexer": "ipython3",
   "version": "3.8.8"
  }
 },
 "nbformat": 4,
 "nbformat_minor": 5
}
