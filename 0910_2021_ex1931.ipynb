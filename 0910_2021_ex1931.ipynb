{
 "cells": [
  {
   "cell_type": "code",
   "execution_count": 7,
   "id": "f5f55423",
   "metadata": {},
   "outputs": [
    {
     "name": "stdout",
     "output_type": "stream",
     "text": [
      "11\n",
      "1 4\n",
      "3 5\n",
      "0 6\n",
      "5 7\n",
      "3 8\n",
      "5 9\n",
      "6 10\n",
      "8 11\n",
      "8 12\n",
      "2 13\n",
      "12 14\n"
     ]
    }
   ],
   "source": [
    "N = int(input())\n",
    "I = []\n",
    "Max=0\n",
    "for i in range(N):\n",
    "    a,b=map(int, input().split())\n",
    "    if b>Max: Max=b\n",
    "    I.append([a,b])"
   ]
  },
  {
   "cell_type": "code",
   "execution_count": 8,
   "id": "0fc66e32",
   "metadata": {},
   "outputs": [
    {
     "name": "stdout",
     "output_type": "stream",
     "text": [
      "4\n"
     ]
    }
   ],
   "source": [
    "T = list(0 for i in range(Max+1))\n",
    "for i in I:\n",
    "    start=i[0]+1\n",
    "    end=i[1]\n",
    "    while(start<end):\n",
    "        T[start]+=1\n",
    "        start+=1\n",
    "print(max(T))"
   ]
  },
  {
   "cell_type": "code",
   "execution_count": 9,
   "id": "3f6c1c36",
   "metadata": {},
   "outputs": [
    {
     "data": {
      "text/plain": [
       "list"
      ]
     },
     "execution_count": 9,
     "metadata": {},
     "output_type": "execute_result"
    }
   ],
   "source": [
    "type(T)"
   ]
  },
  {
   "cell_type": "code",
   "execution_count": 10,
   "id": "2d46313f",
   "metadata": {
    "scrolled": true
   },
   "outputs": [
    {
     "data": {
      "text/plain": [
       "14"
      ]
     },
     "execution_count": 10,
     "metadata": {},
     "output_type": "execute_result"
    }
   ],
   "source": []
  },
  {
   "cell_type": "code",
   "execution_count": 17,
   "id": "baf39c76",
   "metadata": {
    "scrolled": true
   },
   "outputs": [
    {
     "name": "stdout",
     "output_type": "stream",
     "text": [
      "11\n",
      "1 4\n",
      "3 5\n",
      "0 6\n",
      "5 7\n",
      "3 8\n",
      "5 9\n",
      "6 10\n",
      "8 11\n",
      "8 12\n",
      "2 13\n",
      "12 14\n"
     ]
    }
   ],
   "source": [
    "N = int(input())\n",
    "I = []\n",
    "for i in range(N):\n",
    "    I.append(list(map(int, input().split())))\n",
    "I.sort()"
   ]
  },
  {
   "cell_type": "code",
   "execution_count": 18,
   "id": "caec28b9",
   "metadata": {},
   "outputs": [
    {
     "name": "stdout",
     "output_type": "stream",
     "text": [
      "5\n"
     ]
    }
   ],
   "source": [
    "count=0\n",
    "while 0<N:\n",
    "    end = I[0][1]\n",
    "    del I[0]\n",
    "    count+=1\n",
    "    i=0\n",
    "    while i<len(I):\n",
    "        if(I[i][0]>=end):\n",
    "            end = I[i][1]\n",
    "            del I[i]\n",
    "            N-=1\n",
    "            continue\n",
    "        i+=1\n",
    "    N-=1\n",
    "print(count)"
   ]
  },
  {
   "cell_type": "code",
   "execution_count": 16,
   "id": "f73ae669",
   "metadata": {},
   "outputs": [
    {
     "data": {
      "text/plain": [
       "0"
      ]
     },
     "execution_count": 16,
     "metadata": {},
     "output_type": "execute_result"
    }
   ],
   "source": [
    "len(I)"
   ]
  },
  {
   "cell_type": "code",
   "execution_count": null,
   "id": "a491448a",
   "metadata": {},
   "outputs": [],
   "source": []
  }
 ],
 "metadata": {
  "kernelspec": {
   "display_name": "Python 3",
   "language": "python",
   "name": "python3"
  },
  "language_info": {
   "codemirror_mode": {
    "name": "ipython",
    "version": 3
   },
   "file_extension": ".py",
   "mimetype": "text/x-python",
   "name": "python",
   "nbconvert_exporter": "python",
   "pygments_lexer": "ipython3",
   "version": "3.8.8"
  }
 },
 "nbformat": 4,
 "nbformat_minor": 5
}
