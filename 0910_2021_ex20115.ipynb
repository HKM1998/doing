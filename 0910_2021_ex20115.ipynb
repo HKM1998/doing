{
 "cells": [
  {
   "cell_type": "code",
   "execution_count": 5,
   "id": "5cc0ff5d",
   "metadata": {},
   "outputs": [
    {
     "name": "stdout",
     "output_type": "stream",
     "text": [
      "5\n",
      "3 2 10 9 6\n"
     ]
    }
   ],
   "source": [
    "N = int(input())\n",
    "\n",
    "drink = list(map(int, input().split()))"
   ]
  },
  {
   "cell_type": "code",
   "execution_count": 8,
   "id": "a96ed8aa",
   "metadata": {},
   "outputs": [
    {
     "name": "stdout",
     "output_type": "stream",
     "text": [
      "20.0\n"
     ]
    }
   ],
   "source": [
    "drink.sort()\n",
    "for i in range(len(drink)-1):\n",
    "    drink[-1]+=(drink[i]/2)\n",
    "print(drink[-1])"
   ]
  },
  {
   "cell_type": "code",
   "execution_count": null,
   "id": "cb4d36b8",
   "metadata": {},
   "outputs": [],
   "source": []
  }
 ],
 "metadata": {
  "kernelspec": {
   "display_name": "Python 3",
   "language": "python",
   "name": "python3"
  },
  "language_info": {
   "codemirror_mode": {
    "name": "ipython",
    "version": 3
   },
   "file_extension": ".py",
   "mimetype": "text/x-python",
   "name": "python",
   "nbconvert_exporter": "python",
   "pygments_lexer": "ipython3",
   "version": "3.8.8"
  }
 },
 "nbformat": 4,
 "nbformat_minor": 5
}
